{
 "cells": [
  {
   "cell_type": "markdown",
   "source": [
    "# Supervised vs. Unsupervised Learning\n",
    "7/22/2022\n",
    "\n",
    "### What is machine learning?\n",
    "Machine Learning - the field of study that gives computers the ability to learn without being explicitly programmed.\n",
    "\n",
    "Usually, these learning algorithms perform better when given more opportunities to learn\n",
    "### Machine learning algorithms\n",
    "There are two main types of learning algorithms and a few other ones as well.\n",
    "- Supervised learning - often used the most in real-world applications\n",
    "- Unsupervised learning\n",
    "- Recommender systems\n",
    "- Reinforcement learning\n"
   ],
   "metadata": {
    "collapsed": false,
    "pycharm": {
     "name": "#%% md\n"
    }
   }
  },
  {
   "cell_type": "markdown",
   "source": [
    "## Supervised Learning\n",
    "\n",
    "Supervised learning refers to algorithms that learn x to y or input to output mappings. The most important characteristic of unsupervised learning is that there are examples given to the learning algorithm to learn from. This includes the right answers, where the correct pairs of x, y are given and the learning algorithm eventually learns to predict y from a given x.\n",
    "\n",
    "A common type of supervised learning is called regression, where we predict a number out of infinitely many other possible numbers.\n",
    "\n",
    "What differentiates classification algorithms from regression is that there are only a set number of outputs or categories to predict."
   ],
   "metadata": {
    "collapsed": false,
    "pycharm": {
     "name": "#%% md\n"
    }
   }
  },
  {
   "cell_type": "markdown",
   "source": [
    "## Unsupervised Learning\n",
    "\n",
    "In unsupervised learning, the data that is given is not associated with any output labels for y. Instead, unsupervised learning seeks to find something interesting in unlabeled data.\n",
    "\n",
    "Clustering, a type of unsupervised learning algorithm, places unlabeled data in different clusters. This can be seen in Google News, where Google looks at thousands of news articles across the world, and groups them into similar topic clusters based on keywords in the titles. The algorithm also figures out the clusters of news articles for each day.\n",
    "\n",
    "Anomaly detection finds unusual data points.\n",
    "\n",
    "Dimensionality reduction compresses data using fewer numbers."
   ],
   "metadata": {
    "collapsed": false,
    "pycharm": {
     "name": "#%% md\n"
    }
   }
  },
  {
   "cell_type": "markdown",
   "source": [
    "## Regression Models\n",
    "\n",
    "A linear regression model is the most widely used learning algorithm in the world. Essentially, we are fitting a straight line to the data and we predict a number from a given number input.\n",
    "\n",
    "x = \"input\" variable or feature\n",
    "y = \"output\" variable or target\n",
    "m = number of training examples\n",
    "(x, y) = single training example\n",
    "($x^{(i)}$,$y^{(i)}$) = $i^{th}$ training example\n",
    "i = index of data\n",
    "$\\hat{y}$ = estimate or prediction for y\n",
    "function $f$ = the model"
   ],
   "metadata": {
    "collapsed": false,
    "pycharm": {
     "name": "#%% md\n"
    }
   }
  },
  {
   "cell_type": "markdown",
   "source": [],
   "metadata": {
    "collapsed": false,
    "pycharm": {
     "name": "#%% md\n"
    }
   }
  }
 ],
 "metadata": {
  "kernelspec": {
   "display_name": "Python 3",
   "language": "python",
   "name": "python3"
  },
  "language_info": {
   "codemirror_mode": {
    "name": "ipython",
    "version": 2
   },
   "file_extension": ".py",
   "mimetype": "text/x-python",
   "name": "python",
   "nbconvert_exporter": "python",
   "pygments_lexer": "ipython2",
   "version": "2.7.6"
  }
 },
 "nbformat": 4,
 "nbformat_minor": 0
}